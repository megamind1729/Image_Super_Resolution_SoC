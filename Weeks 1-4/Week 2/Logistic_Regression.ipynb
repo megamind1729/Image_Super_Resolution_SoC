{
 "cells": [
  {
   "cell_type": "code",
   "execution_count": 10,
   "metadata": {},
   "outputs": [],
   "source": [
    "import numpy as np\n",
    "import csv\n",
    "import math\n",
    "\n",
    "A, b = [], []\t\t\t\t\t\t\n",
    "with open('framingham.csv','r') as f:\t\t\t# Getting data from csv file as numpy arrays A and b\n",
    "  rows = csv.reader(f)\n",
    "  next(rows)\n",
    "  for i in rows:\n",
    "    x = []\n",
    "    for j in i[:-1]:\n",
    "      if j=='NA':\n",
    "        x.append(np.nan)\n",
    "      else:\n",
    "        x.append(float(j))\n",
    "    \n",
    "    y = [int(i[-1])]\n",
    "    if(np.nan not in x):\n",
    "      A.append(x)\n",
    "      b.append(y)\n",
    "\n",
    "A = np.array(A)\n",
    "B = np.array(b)"
   ]
  },
  {
   "cell_type": "code",
   "execution_count": 11,
   "metadata": {},
   "outputs": [],
   "source": [
    "# Standardising data\n",
    "\n",
    "A_mean = np.mean(A,axis=0)\n",
    "A_std = np.std(A,axis=0)\n",
    "A = (A - A_mean)/A_std\n",
    "A = np.insert(A,0,np.ones(len(A)),axis=1)"
   ]
  },
  {
   "cell_type": "code",
   "execution_count": 12,
   "metadata": {},
   "outputs": [],
   "source": [
    "# Splitting data\n",
    "\n",
    "A1 = A[0:int(0.7 * len(A))]                         # Training data\n",
    "B1 = B[0:int(0.7 * len(A))]\n",
    "\n",
    "A2 = A[int(0.7 * len(A)):int(0.85 * len(A))]        # Validation data\n",
    "B2 = B[int(0.7 * len(A)):int(0.85 * len(A))]\n",
    "\n",
    "A3 = A[int(0.85 * len(A)):]                         # Test data\n",
    "B3 = B[int(0.85 * len(A)):]"
   ]
  },
  {
   "cell_type": "code",
   "execution_count": 13,
   "metadata": {},
   "outputs": [],
   "source": [
    "def p(A_row,X):\n",
    "  p = 1/(1+np.exp(-1 * A_row@X))\n",
    "  return p\n",
    " \n",
    "def cost(A,B,X):\n",
    "  negative_cost = 0\n",
    "  for i in range(len(B)):\n",
    "    if (B[i] == True):\n",
    "      negative_cost += np.log(p(A[i], X))\n",
    "    else:\n",
    "      negative_cost += np.log(1 - p(A[i], X))\n",
    "  return (-1 * negative_cost)\n",
    "\n",
    "def grad_cost(A,B,X):\n",
    "  grad = np.zeros(len(X),dtype=np.float64)\n",
    "  for i in range(len(B)):\n",
    "    grad += (p(A[i],X)-B[i])*A[i]\n",
    "  return grad"
   ]
  },
  {
   "cell_type": "code",
   "execution_count": 17,
   "metadata": {},
   "outputs": [],
   "source": [
    "# Gradient descent\n",
    "\n",
    "learning_rate = 0.01\n",
    "eps = 1e-5\n",
    "X = np.full(A1.shape[1],1)\t\t\t\t# Initializing weights\n",
    "#print(cost(A1,B1,X))\n",
    "\n",
    "i = 0\n",
    "while True:\t\t\t\t\t\t\n",
    "  i += 1\n",
    "  X_new = X - learning_rate * grad_cost(A1,B1,X)\n",
    "  cost_change = cost(A1,B1,X_new) - cost(A1,B1,X)\n",
    "  \n",
    "  if(math.fabs(cost_change) < eps):\n",
    "    break\n",
    "     \n",
    "  if((cost_change > 0) and learning_rate >= 1e-8):\n",
    "    learning_rate /= 2\n",
    "  else:\n",
    "    X = X_new\n",
    "#    print(cost(A1,B1,X))"
   ]
  },
  {
   "cell_type": "code",
   "execution_count": 18,
   "metadata": {},
   "outputs": [],
   "source": [
    "# Running on validation dataset (A2 and B2)\n",
    "\n",
    "count = 0\n",
    "t_count = 0\n",
    "\n",
    "for j in range(len(A2)):\n",
    "  prob = p(A2[j], X)\n",
    "  if (prob > 0.5 and B2[j] == 1) or (prob < 0.5 and B2[j] == 0):\n",
    "    count += 1\n",
    "  t_count += 1"
   ]
  },
  {
   "cell_type": "code",
   "execution_count": 19,
   "metadata": {},
   "outputs": [
    {
     "name": "stdout",
     "output_type": "stream",
     "text": [
      "\n",
      "Using gradient descent: \n",
      "Number of iterations:  54\n",
      "X =  [-1.97287398  0.24237883  0.51007953 -0.05810458  0.01686227  0.26597639\n",
      " -0.00590217  0.05379494  0.08314499  0.01443754  0.08822553  0.33247217\n",
      " -0.02554583  0.07980123 -0.07140249  0.2237233 ]\n",
      "Cost =  966.4959763037369\n"
     ]
    }
   ],
   "source": [
    "print(\"\\nUsing gradient descent: \")  \n",
    "print(\"Number of iterations: \",i)\n",
    "print(\"X = \", X)\n",
    "print(\"Cost = \", cost(A1,B1,X))"
   ]
  },
  {
   "cell_type": "code",
   "execution_count": 20,
   "metadata": {},
   "outputs": [
    {
     "name": "stdout",
     "output_type": "stream",
     "text": [
      "\n",
      "Running on validation data\n",
      "Total number of records in validation dataset: 548\n",
      "Number of records correctly predicted: 474\n",
      "Fraction of records giving success: 0.864963503649635\n"
     ]
    }
   ],
   "source": [
    "print(\"\\nRunning on validation data\")\n",
    "print(\"Total number of records in validation dataset:\", t_count)\n",
    "print(\"Number of records correctly predicted:\", count)\n",
    "print(\"Fraction of records giving success:\", count/t_count)"
   ]
  }
 ],
 "metadata": {
  "kernelspec": {
   "display_name": "Python 3",
   "language": "python",
   "name": "python3"
  },
  "language_info": {
   "codemirror_mode": {
    "name": "ipython",
    "version": 3
   },
   "file_extension": ".py",
   "mimetype": "text/x-python",
   "name": "python",
   "nbconvert_exporter": "python",
   "pygments_lexer": "ipython3",
   "version": "3.10.6"
  },
  "orig_nbformat": 4
 },
 "nbformat": 4,
 "nbformat_minor": 2
}
